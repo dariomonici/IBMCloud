{
 "cells": [
  {
   "cell_type": "code",
   "execution_count": 2,
   "metadata": {},
   "outputs": [],
   "source": [
    "import requests"
   ]
  },
  {
   "cell_type": "code",
   "execution_count": 3,
   "metadata": {},
   "outputs": [],
   "source": [
    "IBM_CLOUD_API_KEY = \"B9KGAKV0QNRbVp3doj3Ne67ZIkM5kvsfdTTNew8GABTR\""
   ]
  },
  {
   "cell_type": "code",
   "execution_count": 4,
   "metadata": {},
   "outputs": [],
   "source": [
    "def API_CALL(method, url, headers, json=True, verify=False, req_data=None, auth=None, body=None):\n",
    "    r = requests.request(method, url, auth=auth, data=body, headers=headers, verify=verify, json=req_data)\n",
    "    sc = r.status_code\n",
    "    if json == True:\n",
    "        return r.json(), sc\n",
    "    else:\n",
    "        return r, sc"
   ]
  },
  {
   "cell_type": "code",
   "execution_count": 5,
   "metadata": {},
   "outputs": [],
   "source": [
    "def get_token():\n",
    "    r_token = API_CALL(method=\"POST\",\n",
    "                             url='https://iam.cloud.ibm.com/identity/token',\n",
    "                             headers={'Content-Type': 'application/x-www-form-urlencoded'},\n",
    "                             body={\n",
    "                                 \"grant_type\": \"urn:ibm:params:oauth:grant-type:apikey\",\n",
    "                                 \"apikey\": IBM_CLOUD_API_KEY\n",
    "                             })\n",
    "\n",
    "    return r_token[0]['access_token']"
   ]
  },
  {
   "cell_type": "code",
   "execution_count": 6,
   "metadata": {},
   "outputs": [
    {
     "name": "stderr",
     "output_type": "stream",
     "text": [
      "/Library/Frameworks/Python.framework/Versions/3.11/lib/python3.11/site-packages/urllib3/connectionpool.py:1045: InsecureRequestWarning: Unverified HTTPS request is being made to host 'iam.cloud.ibm.com'. Adding certificate verification is strongly advised. See: https://urllib3.readthedocs.io/en/1.26.x/advanced-usage.html#ssl-warnings\n",
      "  warnings.warn(\n",
      "/Library/Frameworks/Python.framework/Versions/3.11/lib/python3.11/site-packages/urllib3/connectionpool.py:1045: InsecureRequestWarning: Unverified HTTPS request is being made to host 'resource-controller.cloud.ibm.com'. Adding certificate verification is strongly advised. See: https://urllib3.readthedocs.io/en/1.26.x/advanced-usage.html#ssl-warnings\n",
      "  warnings.warn(\n"
     ]
    }
   ],
   "source": [
    "r_resources = API_CALL(method=\"GET\",\n",
    "                            url='https://resource-controller.cloud.ibm.com/v2/resource_instances',\n",
    "                            headers={'authorization': 'Bearer ' + get_token()}\n",
    "                                 )"
   ]
  },
  {
   "cell_type": "code",
   "execution_count": 18,
   "metadata": {},
   "outputs": [
    {
     "name": "stdout",
     "output_type": "stream",
     "text": [
      "crn:v1:bluemix:public:datacatalog:us-south:a/7709a848adb7460b9a3bb5ff0f2d3bc1:00f54e3b-c751-4c2f-9c60-f0f6d72877fa::\n",
      "crn:v1:bluemix:public:pm-20:us-south:a/7709a848adb7460b9a3bb5ff0f2d3bc1:99f5446d-c761-453e-bf18-b98b2f2d2e69::\n",
      "crn:v1:bluemix:public:pm-20:us-south:a/7709a848adb7460b9a3bb5ff0f2d3bc1:8fa9ea53-2b0c-4a22-a599-f495c8e278f2::\n",
      "crn:v1:bluemix:public:pm-20:eu-de:a/7709a848adb7460b9a3bb5ff0f2d3bc1:e349613d-bbee-4f8d-a92c-a3dab4ee654f::\n",
      "crn:v1:bluemix:public:aiopenscale:eu-de:a/7709a848adb7460b9a3bb5ff0f2d3bc1:952b8aef-5905-439a-8757-de6475af09b8::\n",
      "crn:v1:bluemix:public:cloud-object-storage:global:a/7709a848adb7460b9a3bb5ff0f2d3bc1:5f88582d-d88a-4b9b-bc98-2bc017255d5c::\n",
      "crn:v1:bluemix:public:datacatalog:eu-gb:a/7709a848adb7460b9a3bb5ff0f2d3bc1:deffa3a1-424e-476c-a124-a2b9b4075f93::\n",
      "crn:v1:bluemix:public:datacatalog:eu-de:a/7709a848adb7460b9a3bb5ff0f2d3bc1:a4b49cfc-3da6-4876-b02a-83e592f7f3b3::\n",
      "crn:v1:bluemix:public:datastage:eu-de:a/7709a848adb7460b9a3bb5ff0f2d3bc1:2d9f5395-325c-4ad2-8fe5-5efaa3f933f3::\n",
      "crn:v1:bluemix:public:schematics:us-south:a/7709a848adb7460b9a3bb5ff0f2d3bc1:4b1b9bc8-949c-45c8-a7aa-a9d5b9700910::\n",
      "crn:v1:bluemix:public:conversation:eu-gb:a/7709a848adb7460b9a3bb5ff0f2d3bc1:416d25ad-05d8-4748-953e-ea745f5eaeb8::\n",
      "crn:v1:bluemix:public:discovery:eu-gb:a/7709a848adb7460b9a3bb5ff0f2d3bc1:4629c89b-3d69-4b16-a4b6-969cf2390d23::\n",
      "crn:v1:bluemix:public:functions:eu-de:a/7709a848adb7460b9a3bb5ff0f2d3bc1:1757969a-c04e-474e-a9d9-045b799eac5f::\n",
      "crn:v1:bluemix:public:text-to-speech:eu-gb:a/7709a848adb7460b9a3bb5ff0f2d3bc1:a0c0b9bf-edd8-4886-9b55-7fdc6680498c::\n",
      "crn:v1:bluemix:public:speech-to-text:eu-gb:a/7709a848adb7460b9a3bb5ff0f2d3bc1:dafa427f-13fb-403a-b929-10b1cfb46daa::\n",
      "crn:v1:bluemix:public:dynamic-dashboard-embedded:eu-gb:a/7709a848adb7460b9a3bb5ff0f2d3bc1:a413f994-7105-45a5-8e53-b4155275c5f4::\n",
      "crn:v1:bluemix:public:cloudantnosqldb:eu-gb:a/7709a848adb7460b9a3bb5ff0f2d3bc1:e8f75811-1b47-4843-bc37-5d043eaed892::\n",
      "crn:v1:bluemix:public:data-science-experience:eu-de:a/7709a848adb7460b9a3bb5ff0f2d3bc1:70287418-36cf-4328-a665-58ad4d665e31::\n",
      "crn:v1:bluemix:public:data-science-experience:eu-gb:a/7709a848adb7460b9a3bb5ff0f2d3bc1:50d9cb7a-e784-4600-ae8f-df1328de6c24::\n",
      "crn:v1:bluemix:public:developer-application:global:a/7709a848adb7460b9a3bb5ff0f2d3bc1:6b18f7f0-f6bb-49be-a122-ab887afe0bf4::\n",
      "crn:v1:bluemix:public:pm-20:eu-de:a/7709a848adb7460b9a3bb5ff0f2d3bc1:1e6d61fd-92ee-4d33-af81-a42b661caab3::\n",
      "crn:v1:bluemix:public:iotf-service:eu-de:a/7709a848adb7460b9a3bb5ff0f2d3bc1:98b2061d-39ae-496a-a4c1-d5977d25272e::\n",
      "crn:v1:bluemix:public:mqcloud:eu-gb:a/7709a848adb7460b9a3bb5ff0f2d3bc1:66834104-c8ad-4cfd-a781-1270258d0a1a::\n",
      "crn:v1:bluemix:public:developer-application:global:a/7709a848adb7460b9a3bb5ff0f2d3bc1:adba6404-6bbe-462b-b471-929d24588096::\n",
      "crn:v1:bluemix:public:toolchain:eu-de:a/7709a848adb7460b9a3bb5ff0f2d3bc1:f3f7f4f6-5939-4cab-b66d-6fe5b2a0b387::\n",
      "crn:v1:bluemix:public:speech-to-text:eu-de:a/7709a848adb7460b9a3bb5ff0f2d3bc1:c7be22ee-f48f-4c02-848d-39a248d77e44::\n",
      "crn:v1:bluemix:public:dashdb-for-transactions:eu-gb:a/7709a848adb7460b9a3bb5ff0f2d3bc1:fda63bf8-32ae-4245-a568-e37cab86923b::\n",
      "crn:v1:bluemix:public:sysdig-monitor:eu-de:a/7709a848adb7460b9a3bb5ff0f2d3bc1:e2931c2a-43e8-4ccc-9c12-a6cb8cf1fc90::\n",
      "crn:v1:bluemix:public:logdna:eu-de:a/7709a848adb7460b9a3bb5ff0f2d3bc1:aa29865a-f931-4650-9e7b-1952fe3aa4c9::\n",
      "crn:v1:bluemix:public:language-translator:eu-de:a/7709a848adb7460b9a3bb5ff0f2d3bc1:90e3b10f-803e-4b5d-9d86-abca677865be::\n",
      "crn:v1:bluemix:public:schematics:eu-de:a/7709a848adb7460b9a3bb5ff0f2d3bc1:9b0e2fe2-fdb1-4706-a39c-beb2c35d2967::\n",
      "crn:v1:bluemix:public:container-registry:global:a/7709a848adb7460b9a3bb5ff0f2d3bc1:df1001d4-866e-4be6-a4d3-dc973169ed5e::\n",
      "crn:v1:bluemix:public:globalcatalog-collection:global:a/7709a848adb7460b9a3bb5ff0f2d3bc1:ad4bd282-57fa-48b1-a89a-2683a26af496::\n",
      "crn:v1:bluemix:public:globalcatalog-collection:global:a/7709a848adb7460b9a3bb5ff0f2d3bc1:a352fb0c-7f48-4bea-9807-369d4354aec9::\n",
      "crn:v1:bluemix:public:datastage:us-south:a/7709a848adb7460b9a3bb5ff0f2d3bc1:76947649-8c1c-4d4d-853d-53d2811df03c::\n",
      "crn:v1:bluemix:public:data-science-experience:us-south:a/7709a848adb7460b9a3bb5ff0f2d3bc1:dfdc736c-e857-4368-a553-486e86b6efad::\n",
      "crn:v1:bluemix:public:containers-kubernetes:eu-de:a/7709a848adb7460b9a3bb5ff0f2d3bc1:cgrrfrlf0e422m790qo0::\n",
      "crn:v1:bluemix:public:containers-kubernetes:eu-de:a/7709a848adb7460b9a3bb5ff0f2d3bc1:cgrrfrlf0e422m790qo0:worker:kube-cgrrfrlf0e422m790qo0-myclusterfr-default-000000b8\n"
     ]
    }
   ],
   "source": [
    "for r in r_resources[0]['resources']:\n",
    "    print(r['crn'])#, r['dashboard_url'], r['name'], )"
   ]
  },
  {
   "cell_type": "code",
   "execution_count": 15,
   "metadata": {},
   "outputs": [
    {
     "data": {
      "text/plain": [
       "{'id': 'crn:v1:bluemix:public:language-translator:eu-de:a/7709a848adb7460b9a3bb5ff0f2d3bc1:90e3b10f-803e-4b5d-9d86-abca677865be::',\n",
       " 'guid': '90e3b10f-803e-4b5d-9d86-abca677865be',\n",
       " 'url': '/v2/resource_instances/90e3b10f-803e-4b5d-9d86-abca677865be',\n",
       " 'created_at': '2023-01-04T14:12:43.768283608Z',\n",
       " 'updated_at': '2023-01-04T14:12:44.302531135Z',\n",
       " 'deleted_at': None,\n",
       " 'created_by': 'IBMid-550005NTR4',\n",
       " 'updated_by': '',\n",
       " 'deleted_by': '',\n",
       " 'scheduled_reclaim_at': None,\n",
       " 'restored_at': None,\n",
       " 'scheduled_reclaim_by': '',\n",
       " 'restored_by': '',\n",
       " 'name': 'Language Translator-u1',\n",
       " 'region_id': 'eu-de',\n",
       " 'account_id': '7709a848adb7460b9a3bb5ff0f2d3bc1',\n",
       " 'reseller_channel_id': '',\n",
       " 'resource_plan_id': '2d40e0f9-3c12-4d2e-9869-fd700836044f',\n",
       " 'resource_group_id': '503392c2772d4c9b831927435c525338',\n",
       " 'resource_group_crn': 'crn:v1:bluemix:public:resource-controller::a/7709a848adb7460b9a3bb5ff0f2d3bc1::resource-group:503392c2772d4c9b831927435c525338',\n",
       " 'target_crn': 'crn:v1:bluemix:public:globalcatalog::::deployment:a447a07d-6451-cd5d-28b6-3b7706e0eb8d',\n",
       " 'allow_cleanup': False,\n",
       " 'crn': 'crn:v1:bluemix:public:language-translator:eu-de:a/7709a848adb7460b9a3bb5ff0f2d3bc1:90e3b10f-803e-4b5d-9d86-abca677865be::',\n",
       " 'state': 'active',\n",
       " 'type': 'service_instance',\n",
       " 'resource_id': 'f1faf010-4107-4877-a571-fc9c8763c3dd',\n",
       " 'dashboard_url': 'https://cloud.ibm.com/',\n",
       " 'last_operation': {'type': 'create',\n",
       "  'state': 'succeeded',\n",
       "  'async': False,\n",
       "  'description': 'Completed create instance operation',\n",
       "  'cancelable': False,\n",
       "  'poll': False},\n",
       " 'resource_aliases_url': '/v2/resource_instances/90e3b10f-803e-4b5d-9d86-abca677865be/resource_aliases',\n",
       " 'resource_bindings_url': '/v2/resource_instances/90e3b10f-803e-4b5d-9d86-abca677865be/resource_bindings',\n",
       " 'resource_keys_url': '/v2/resource_instances/90e3b10f-803e-4b5d-9d86-abca677865be/resource_keys',\n",
       " 'plan_history': [{'resource_plan_id': '2d40e0f9-3c12-4d2e-9869-fd700836044f',\n",
       "   'start_date': '2023-01-04T14:12:43.768283608Z',\n",
       "   'requestor_id': 'IBMid-550005NTR4'}],\n",
       " 'migrated': False,\n",
       " 'controlled_by': '',\n",
       " 'locked': False}"
      ]
     },
     "execution_count": 15,
     "metadata": {},
     "output_type": "execute_result"
    }
   ],
   "source": [
    "r_resources[0]['resources'][29]"
   ]
  },
  {
   "cell_type": "code",
   "execution_count": 26,
   "metadata": {},
   "outputs": [
    {
     "name": "stdout",
     "output_type": "stream",
     "text": [
      "text-to-speech Services (1)\n",
      "[['a0c0b9bf-edd8-4886-9b55-7fdc6680498c', 'Text to Speech-km', 'crn:v1:bluemix:public:text-to-speech:eu-gb:a/7709a848adb7460b9a3bb5ff0f2d3bc1:a0c0b9bf-edd8-4886-9b55-7fdc6680498c::', 'eu-gb']]\n",
      "\n",
      "speech-to-text Services (2)\n",
      "[['dafa427f-13fb-403a-b929-10b1cfb46daa', 'Speech to Text-pn', 'crn:v1:bluemix:public:speech-to-text:eu-gb:a/7709a848adb7460b9a3bb5ff0f2d3bc1:dafa427f-13fb-403a-b929-10b1cfb46daa::', 'eu-gb'], ['c7be22ee-f48f-4c02-848d-39a248d77e44', 'Speech to Text-4x', 'crn:v1:bluemix:public:speech-to-text:eu-de:a/7709a848adb7460b9a3bb5ff0f2d3bc1:c7be22ee-f48f-4c02-848d-39a248d77e44::', 'eu-de']]\n",
      "\n",
      "language-translator Services (1)\n",
      "[['90e3b10f-803e-4b5d-9d86-abca677865be', 'Language Translator-u1', 'crn:v1:bluemix:public:language-translator:eu-de:a/7709a848adb7460b9a3bb5ff0f2d3bc1:90e3b10f-803e-4b5d-9d86-abca677865be::', 'eu-de']]\n"
     ]
    }
   ],
   "source": [
    "tts_services = []\n",
    "stt_services = []\n",
    "lt_services = []\n",
    "\n",
    "for r in r_resources[0]['resources']:\n",
    "    if \"text-to-speech\" in r['crn']:\n",
    "        tts_services.append([r['guid'],r['name'],r['crn'],r['region_id']])\n",
    "    if \"speech-to-text\" in r['crn']:\n",
    "        stt_services.append([r['guid'],r['name'],r['crn'],r['region_id']])\n",
    "    if \"language-translator\" in r['crn']:\n",
    "        lt_services.append([r['guid'],r['name'],r['crn'],r['region_id']])\n",
    "\n",
    "print(f\"text-to-speech Services ({len(tts_services)})\")\n",
    "print(tts_services)\n",
    "\n",
    "print(\"\")\n",
    "print(f\"speech-to-text Services ({len(stt_services)})\")\n",
    "print(stt_services)\n",
    "\n",
    "print(\"\")\n",
    "print(f\"language-translator Services ({len(lt_services)})\")\n",
    "print(lt_services)"
   ]
  },
  {
   "cell_type": "code",
   "execution_count": 31,
   "metadata": {},
   "outputs": [],
   "source": [
    "services_to_check = [\"text-to-speech\", \"speech-to-text\", \"language-translator\"]\n",
    "list_resources = {}\n",
    "for s in services_to_check:\n",
    "    list_resources[s] = []\n",
    "\n",
    "for r in r_resources[0]['resources']:\n",
    "    for s in services_to_check:\n",
    "        if s in r['crn']:\n",
    "            list_resources[s].append({'guid':r['guid'], 'name':r['name'], 'crn':r['crn'], 'region_id':r['region_id']})\n"
   ]
  },
  {
   "cell_type": "code",
   "execution_count": 36,
   "metadata": {},
   "outputs": [
    {
     "name": "stdout",
     "output_type": "stream",
     "text": [
      "<class 'str'> 1\n",
      "<class 'str'> 2\n",
      "<class 'str'> 1\n"
     ]
    }
   ],
   "source": [
    "for r in list_resources:\n",
    "    print(type(r), len(list_resources[r]))"
   ]
  },
  {
   "cell_type": "code",
   "execution_count": 11,
   "metadata": {},
   "outputs": [
    {
     "name": "stderr",
     "output_type": "stream",
     "text": [
      "/Library/Frameworks/Python.framework/Versions/3.11/lib/python3.11/site-packages/urllib3/connectionpool.py:1045: InsecureRequestWarning: Unverified HTTPS request is being made to host 'iam.cloud.ibm.com'. Adding certificate verification is strongly advised. See: https://urllib3.readthedocs.io/en/1.26.x/advanced-usage.html#ssl-warnings\n",
      "  warnings.warn(\n"
     ]
    }
   ],
   "source": [
    "r_key = API_CALL(method=\"GET\",\n",
    "                url=\"https://resource-controller.cloud.ibm.com/v2/resource_instances/90e3b10f-803e-4b5d-9d86-abca677865be/resource_keys\",\n",
    "                headers={'authorization': 'Bearer ' + get_token()},\n",
    "                verify = True\n",
    "                )\n",
    "\n",
    "r_key[0]['resources'][0]['credentials']['apikey']"
   ]
  }
 ],
 "metadata": {
  "kernelspec": {
   "display_name": "Python 3",
   "language": "python",
   "name": "python3"
  },
  "language_info": {
   "codemirror_mode": {
    "name": "ipython",
    "version": 3
   },
   "file_extension": ".py",
   "mimetype": "text/x-python",
   "name": "python",
   "nbconvert_exporter": "python",
   "pygments_lexer": "ipython3",
   "version": "3.11.2"
  },
  "orig_nbformat": 4
 },
 "nbformat": 4,
 "nbformat_minor": 2
}
